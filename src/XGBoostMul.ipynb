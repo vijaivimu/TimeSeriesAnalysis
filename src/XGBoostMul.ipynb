{
 "cells": [
  {
   "cell_type": "code",
   "execution_count": 1,
   "metadata": {},
   "outputs": [],
   "source": [
    "import pandas as pd\n",
    "import matplotlib.pyplot as plt"
   ]
  },
  {
   "cell_type": "code",
   "execution_count": 2,
   "metadata": {},
   "outputs": [],
   "source": [
    "df = pd.read_csv('/Users/vimu/Documents/Data Science/SDS/Github/TimeSeriesAnalysis/Data/Energy_consumption.csv',index_col= \"Timestamp\",parse_dates=True)"
   ]
  },
  {
   "cell_type": "code",
   "execution_count": 3,
   "metadata": {},
   "outputs": [
    {
     "data": {
      "text/plain": [
       "Index(['Temperature', 'Humidity', 'SquareFootage', 'Occupancy', 'HVACUsage',\n",
       "       'LightingUsage', 'RenewableEnergy', 'DayOfWeek', 'Holiday',\n",
       "       'EnergyConsumption'],\n",
       "      dtype='object')"
      ]
     },
     "execution_count": 3,
     "metadata": {},
     "output_type": "execute_result"
    }
   ],
   "source": [
    "df.columns"
   ]
  },
  {
   "cell_type": "code",
   "execution_count": 4,
   "metadata": {},
   "outputs": [],
   "source": [
    "columns_to_remove = [\n",
    "    'Humidity', 'SquareFootage', \n",
    "    'HVACUsage', 'LightingUsage', 'RenewableEnergy', 'DayOfWeek', 'Holiday'\n",
    "]\n",
    "\n",
    "df_cleaned = df.drop(columns=columns_to_remove, errors='ignore')"
   ]
  },
  {
   "cell_type": "code",
   "execution_count": 5,
   "metadata": {},
   "outputs": [
    {
     "data": {
      "text/plain": [
       "Index(['Temperature', 'Occupancy', 'EnergyConsumption'], dtype='object')"
      ]
     },
     "execution_count": 5,
     "metadata": {},
     "output_type": "execute_result"
    }
   ],
   "source": [
    "df_cleaned.columns"
   ]
  },
  {
   "cell_type": "code",
   "execution_count": 7,
   "metadata": {},
   "outputs": [
    {
     "data": {
      "text/plain": [
       "<bound method NDFrame.describe of                      Temperature  Occupancy  EnergyConsumption\n",
       "Timestamp                                                     \n",
       "2022-01-01 00:00:00    25.139433          5          75.364373\n",
       "2022-01-01 01:00:00    27.731651          1          83.401855\n",
       "2022-01-01 02:00:00    28.704277          2          78.270888\n",
       "2022-01-01 03:00:00    20.080469          1          56.519850\n",
       "2022-01-01 04:00:00    23.097359          9          70.811732\n",
       "...                          ...        ...                ...\n",
       "2022-02-11 11:00:00    28.619382          5          82.306692\n",
       "2022-02-11 12:00:00    23.836647          4          66.577320\n",
       "2022-02-11 13:00:00    23.005340          6          72.753471\n",
       "2022-02-11 14:00:00    25.138365          3          76.950389\n",
       "2022-02-11 15:00:00    23.051165          6          71.545311\n",
       "\n",
       "[1000 rows x 3 columns]>"
      ]
     },
     "execution_count": 7,
     "metadata": {},
     "output_type": "execute_result"
    }
   ],
   "source": [
    "df_cleaned.describe"
   ]
  },
  {
   "cell_type": "code",
   "execution_count": 9,
   "metadata": {},
   "outputs": [
    {
     "name": "stdout",
     "output_type": "stream",
     "text": [
      "RMSE: 6.17\n"
     ]
    }
   ],
   "source": [
    "import pandas as pd\n",
    "import numpy as np\n",
    "from xgboost import XGBRegressor\n",
    "from sklearn.metrics import mean_squared_error\n",
    "\n",
    "# Step 1: Start with your cleaned DataFrame\n",
    "df = df_cleaned.copy()\n",
    "\n",
    "# Step 2: Create lag features (10 lags each)\n",
    "for lag in range(1, 11):\n",
    "    df[f'EC_lag_{lag}'] = df['EnergyConsumption'].shift(lag)\n",
    "    df[f'Temp_lag_{lag}'] = df['Temperature'].shift(lag)\n",
    "    df[f'Occ_lag_{lag}'] = df['Occupancy'].shift(lag)\n",
    "\n",
    "# Step 3: Drop rows with NaNs (from shifting)\n",
    "df.dropna(inplace=True)\n",
    "\n",
    "# Step 4: Define X and y\n",
    "X = df.drop(['EnergyConsumption'], axis=1)\n",
    "y = df['EnergyConsumption']\n",
    "\n",
    "# Step 5: Time-based 80/20 split\n",
    "split = int(len(df) * 0.8)\n",
    "X_train, X_test = X.iloc[:split], X.iloc[split:]\n",
    "y_train, y_test = y.iloc[:split], y.iloc[split:]\n",
    "\n",
    "# Step 6: Train the XGBoost model\n",
    "model = XGBRegressor(objective='reg:squarederror', n_estimators=100, random_state=42)\n",
    "model.fit(X_train, y_train)\n",
    "\n",
    "# Step 7: Evaluate the model\n",
    "y_pred = model.predict(X_test)\n",
    "rmse = np.sqrt(mean_squared_error(y_test, y_pred))\n",
    "print(f'RMSE: {rmse:.2f}')"
   ]
  }
 ],
 "metadata": {
  "kernelspec": {
   "display_name": "venv",
   "language": "python",
   "name": "python3"
  },
  "language_info": {
   "codemirror_mode": {
    "name": "ipython",
    "version": 3
   },
   "file_extension": ".py",
   "mimetype": "text/x-python",
   "name": "python",
   "nbconvert_exporter": "python",
   "pygments_lexer": "ipython3",
   "version": "3.13.3"
  }
 },
 "nbformat": 4,
 "nbformat_minor": 2
}
