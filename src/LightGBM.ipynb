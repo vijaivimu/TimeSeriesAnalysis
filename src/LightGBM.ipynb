{
 "cells": [
  {
   "cell_type": "code",
   "execution_count": null,
   "metadata": {},
   "outputs": [],
   "source": []
  },
  {
   "cell_type": "code",
   "execution_count": 1,
   "metadata": {},
   "outputs": [],
   "source": [
    "import pandas as pd\n",
    "import matplotlib.pyplot as plt"
   ]
  },
  {
   "cell_type": "code",
   "execution_count": 2,
   "metadata": {},
   "outputs": [],
   "source": [
    "df = pd.read_csv('/Users/vimu/Documents/Data Science/SDS/Github/TimeSeriesAnalysis/Data/Energy_consumption.csv',index_col= \"Timestamp\",parse_dates=True)"
   ]
  },
  {
   "cell_type": "code",
   "execution_count": 3,
   "metadata": {},
   "outputs": [
    {
     "data": {
      "text/plain": [
       "Index(['Temperature', 'Humidity', 'SquareFootage', 'Occupancy', 'HVACUsage',\n",
       "       'LightingUsage', 'RenewableEnergy', 'DayOfWeek', 'Holiday',\n",
       "       'EnergyConsumption'],\n",
       "      dtype='object')"
      ]
     },
     "execution_count": 3,
     "metadata": {},
     "output_type": "execute_result"
    }
   ],
   "source": [
    "df.columns"
   ]
  },
  {
   "cell_type": "code",
   "execution_count": 4,
   "metadata": {},
   "outputs": [],
   "source": [
    "columns_to_remove = [\n",
    "    'Humidity', 'SquareFootage', \n",
    "    'HVACUsage', 'LightingUsage', 'RenewableEnergy', 'DayOfWeek', 'Holiday'\n",
    "]\n",
    "\n",
    "df_cleaned = df.drop(columns=columns_to_remove, errors='ignore')"
   ]
  },
  {
   "cell_type": "code",
   "execution_count": 5,
   "metadata": {},
   "outputs": [
    {
     "data": {
      "text/plain": [
       "Index(['Temperature', 'Occupancy', 'EnergyConsumption'], dtype='object')"
      ]
     },
     "execution_count": 5,
     "metadata": {},
     "output_type": "execute_result"
    }
   ],
   "source": [
    "df_cleaned.columns"
   ]
  },
  {
   "cell_type": "code",
   "execution_count": 6,
   "metadata": {},
   "outputs": [],
   "source": [
    "for lag in range(1, 8):  # 7 lags\n",
    "    df_cleaned[f'lag_{lag}'] = df_cleaned['EnergyConsumption'].shift(lag)\n",
    "\n",
    "# Drop rows with NaN introduced by shift\n",
    "df_cleaned.dropna(inplace=True)"
   ]
  },
  {
   "cell_type": "code",
   "execution_count": 7,
   "metadata": {},
   "outputs": [
    {
     "data": {
      "text/html": [
       "<div>\n",
       "<style scoped>\n",
       "    .dataframe tbody tr th:only-of-type {\n",
       "        vertical-align: middle;\n",
       "    }\n",
       "\n",
       "    .dataframe tbody tr th {\n",
       "        vertical-align: top;\n",
       "    }\n",
       "\n",
       "    .dataframe thead th {\n",
       "        text-align: right;\n",
       "    }\n",
       "</style>\n",
       "<table border=\"1\" class=\"dataframe\">\n",
       "  <thead>\n",
       "    <tr style=\"text-align: right;\">\n",
       "      <th></th>\n",
       "      <th>Temperature</th>\n",
       "      <th>Occupancy</th>\n",
       "      <th>EnergyConsumption</th>\n",
       "      <th>lag_1</th>\n",
       "      <th>lag_2</th>\n",
       "      <th>lag_3</th>\n",
       "      <th>lag_4</th>\n",
       "      <th>lag_5</th>\n",
       "      <th>lag_6</th>\n",
       "      <th>lag_7</th>\n",
       "    </tr>\n",
       "    <tr>\n",
       "      <th>Timestamp</th>\n",
       "      <th></th>\n",
       "      <th></th>\n",
       "      <th></th>\n",
       "      <th></th>\n",
       "      <th></th>\n",
       "      <th></th>\n",
       "      <th></th>\n",
       "      <th></th>\n",
       "      <th></th>\n",
       "      <th></th>\n",
       "    </tr>\n",
       "  </thead>\n",
       "  <tbody>\n",
       "    <tr>\n",
       "      <th>2022-01-01 07:00:00</th>\n",
       "      <td>23.182844</td>\n",
       "      <td>8</td>\n",
       "      <td>74.131906</td>\n",
       "      <td>76.165791</td>\n",
       "      <td>84.321885</td>\n",
       "      <td>70.811732</td>\n",
       "      <td>56.519850</td>\n",
       "      <td>78.270888</td>\n",
       "      <td>83.401855</td>\n",
       "      <td>75.364373</td>\n",
       "    </tr>\n",
       "    <tr>\n",
       "      <th>2022-01-01 08:00:00</th>\n",
       "      <td>25.391999</td>\n",
       "      <td>6</td>\n",
       "      <td>78.206236</td>\n",
       "      <td>74.131906</td>\n",
       "      <td>76.165791</td>\n",
       "      <td>84.321885</td>\n",
       "      <td>70.811732</td>\n",
       "      <td>56.519850</td>\n",
       "      <td>78.270888</td>\n",
       "      <td>83.401855</td>\n",
       "    </tr>\n",
       "    <tr>\n",
       "      <th>2022-01-01 09:00:00</th>\n",
       "      <td>22.212549</td>\n",
       "      <td>1</td>\n",
       "      <td>77.992214</td>\n",
       "      <td>78.206236</td>\n",
       "      <td>74.131906</td>\n",
       "      <td>76.165791</td>\n",
       "      <td>84.321885</td>\n",
       "      <td>70.811732</td>\n",
       "      <td>56.519850</td>\n",
       "      <td>78.270888</td>\n",
       "    </tr>\n",
       "    <tr>\n",
       "      <th>2022-01-01 10:00:00</th>\n",
       "      <td>28.064814</td>\n",
       "      <td>2</td>\n",
       "      <td>82.274434</td>\n",
       "      <td>77.992214</td>\n",
       "      <td>78.206236</td>\n",
       "      <td>74.131906</td>\n",
       "      <td>76.165791</td>\n",
       "      <td>84.321885</td>\n",
       "      <td>70.811732</td>\n",
       "      <td>56.519850</td>\n",
       "    </tr>\n",
       "    <tr>\n",
       "      <th>2022-01-01 11:00:00</th>\n",
       "      <td>23.422546</td>\n",
       "      <td>6</td>\n",
       "      <td>73.278670</td>\n",
       "      <td>82.274434</td>\n",
       "      <td>77.992214</td>\n",
       "      <td>78.206236</td>\n",
       "      <td>74.131906</td>\n",
       "      <td>76.165791</td>\n",
       "      <td>84.321885</td>\n",
       "      <td>70.811732</td>\n",
       "    </tr>\n",
       "  </tbody>\n",
       "</table>\n",
       "</div>"
      ],
      "text/plain": [
       "                     Temperature  Occupancy  EnergyConsumption      lag_1  \\\n",
       "Timestamp                                                                   \n",
       "2022-01-01 07:00:00    23.182844          8          74.131906  76.165791   \n",
       "2022-01-01 08:00:00    25.391999          6          78.206236  74.131906   \n",
       "2022-01-01 09:00:00    22.212549          1          77.992214  78.206236   \n",
       "2022-01-01 10:00:00    28.064814          2          82.274434  77.992214   \n",
       "2022-01-01 11:00:00    23.422546          6          73.278670  82.274434   \n",
       "\n",
       "                         lag_2      lag_3      lag_4      lag_5      lag_6  \\\n",
       "Timestamp                                                                    \n",
       "2022-01-01 07:00:00  84.321885  70.811732  56.519850  78.270888  83.401855   \n",
       "2022-01-01 08:00:00  76.165791  84.321885  70.811732  56.519850  78.270888   \n",
       "2022-01-01 09:00:00  74.131906  76.165791  84.321885  70.811732  56.519850   \n",
       "2022-01-01 10:00:00  78.206236  74.131906  76.165791  84.321885  70.811732   \n",
       "2022-01-01 11:00:00  77.992214  78.206236  74.131906  76.165791  84.321885   \n",
       "\n",
       "                         lag_7  \n",
       "Timestamp                       \n",
       "2022-01-01 07:00:00  75.364373  \n",
       "2022-01-01 08:00:00  83.401855  \n",
       "2022-01-01 09:00:00  78.270888  \n",
       "2022-01-01 10:00:00  56.519850  \n",
       "2022-01-01 11:00:00  70.811732  "
      ]
     },
     "execution_count": 7,
     "metadata": {},
     "output_type": "execute_result"
    }
   ],
   "source": [
    "df_cleaned.head()"
   ]
  }
 ],
 "metadata": {
  "kernelspec": {
   "display_name": "venv",
   "language": "python",
   "name": "python3"
  },
  "language_info": {
   "codemirror_mode": {
    "name": "ipython",
    "version": 3
   },
   "file_extension": ".py",
   "mimetype": "text/x-python",
   "name": "python",
   "nbconvert_exporter": "python",
   "pygments_lexer": "ipython3",
   "version": "3.13.3"
  }
 },
 "nbformat": 4,
 "nbformat_minor": 2
}
