{
 "cells": [
  {
   "cell_type": "code",
   "execution_count": 1,
   "metadata": {},
   "outputs": [],
   "source": [
    "import pandas as pd\n",
    "import matplotlib.pyplot as plt"
   ]
  },
  {
   "cell_type": "code",
   "execution_count": 2,
   "metadata": {},
   "outputs": [],
   "source": [
    "df = pd.read_csv('/Users/vimu/Documents/Data Science/SDS/Github/TimeSeriesAnalysis/Data/Energy_consumption.csv',index_col= \"Timestamp\",parse_dates=True)"
   ]
  },
  {
   "cell_type": "code",
   "execution_count": 3,
   "metadata": {},
   "outputs": [],
   "source": [
    "columns_to_remove = [\n",
    "    'Humidity', 'SquareFootage', \n",
    "    'HVACUsage', 'LightingUsage', 'RenewableEnergy', 'DayOfWeek', 'Holiday'\n",
    "]\n",
    "\n",
    "df_cleaned = df.drop(columns=columns_to_remove, errors='ignore')"
   ]
  },
  {
   "cell_type": "code",
   "execution_count": 4,
   "metadata": {},
   "outputs": [
    {
     "name": "stdout",
     "output_type": "stream",
     "text": [
      "X shape: (990, 10, 3)\n",
      "y shape: (990,)\n"
     ]
    }
   ],
   "source": [
    "import numpy as np\n",
    "\n",
    "def create_lagged_features(df, lookback=10):\n",
    "    X, y = [], []\n",
    "\n",
    "    for i in range(lookback, len(df)):\n",
    "        X.append(df.iloc[i - lookback:i].values)        # past 10 rows\n",
    "        y.append(df.iloc[i]['EnergyConsumption'])       # target is next Energy value\n",
    "\n",
    "    return np.array(X), np.array(y)\n",
    "\n",
    "# apply the function\n",
    "X, y = create_lagged_features(df_cleaned, lookback=10)\n",
    "\n",
    "print(f\"X shape: {X.shape}\")  # (samples, timesteps, features)\n",
    "print(f\"y shape: {y.shape}\")  # (samples,)"
   ]
  },
  {
   "cell_type": "code",
   "execution_count": 6,
   "metadata": {},
   "outputs": [
    {
     "data": {
      "text/plain": [
       "array([[[25.13943344,  5.        , 75.3643734 ],\n",
       "        [27.73165052,  1.        , 83.40185495],\n",
       "        [28.70427686,  2.        , 78.27088774],\n",
       "        ...,\n",
       "        [23.18284425,  8.        , 74.13190618],\n",
       "        [25.39199937,  6.        , 78.20623587],\n",
       "        [22.21254942,  1.        , 77.9922137 ]],\n",
       "\n",
       "       [[27.73165052,  1.        , 83.40185495],\n",
       "        [28.70427686,  2.        , 78.27088774],\n",
       "        [20.08046949,  1.        , 56.51985049],\n",
       "        ...,\n",
       "        [25.39199937,  6.        , 78.20623587],\n",
       "        [22.21254942,  1.        , 77.9922137 ],\n",
       "        [28.06481358,  2.        , 82.27443448]],\n",
       "\n",
       "       [[28.70427686,  2.        , 78.27088774],\n",
       "        [20.08046949,  1.        , 56.51985049],\n",
       "        [23.09735926,  9.        , 70.81173247],\n",
       "        ...,\n",
       "        [22.21254942,  1.        , 77.9922137 ],\n",
       "        [28.06481358,  2.        , 82.27443448],\n",
       "        [23.42254626,  6.        , 73.2786695 ]],\n",
       "\n",
       "       ...,\n",
       "\n",
       "       [[23.90781959,  4.        , 73.62123677],\n",
       "        [29.16942055,  6.        , 86.78020327],\n",
       "        [21.39657155,  3.        , 71.77578114],\n",
       "        ...,\n",
       "        [26.65688869,  8.        , 89.96406418],\n",
       "        [28.6193823 ,  5.        , 82.30669219],\n",
       "        [23.83664678,  4.        , 66.57731968]],\n",
       "\n",
       "       [[29.16942055,  6.        , 86.78020327],\n",
       "        [21.39657155,  3.        , 71.77578114],\n",
       "        [22.61967082,  6.        , 74.63895632],\n",
       "        ...,\n",
       "        [28.6193823 ,  5.        , 82.30669219],\n",
       "        [23.83664678,  4.        , 66.57731968],\n",
       "        [23.00534022,  6.        , 72.75347139]],\n",
       "\n",
       "       [[21.39657155,  3.        , 71.77578114],\n",
       "        [22.61967082,  6.        , 74.63895632],\n",
       "        [21.99021373,  6.        , 64.90307782],\n",
       "        ...,\n",
       "        [23.83664678,  4.        , 66.57731968],\n",
       "        [23.00534022,  6.        , 72.75347139],\n",
       "        [25.13836489,  3.        , 76.95038939]]], shape=(990, 10, 3))"
      ]
     },
     "execution_count": 6,
     "metadata": {},
     "output_type": "execute_result"
    }
   ],
   "source": [
    "X"
   ]
  },
  {
   "cell_type": "code",
   "execution_count": 7,
   "metadata": {},
   "outputs": [
    {
     "name": "stdout",
     "output_type": "stream",
     "text": [
      "X_scaled shape: (990, 10, 3)\n",
      "y_scaled shape: (990, 1)\n"
     ]
    }
   ],
   "source": [
    "from sklearn.preprocessing import MinMaxScaler\n",
    "\n",
    "# reshape X to 2D for scaling\n",
    "n_samples, timesteps, n_features = X.shape\n",
    "X_reshaped = X.reshape((n_samples * timesteps, n_features))\n",
    "\n",
    "# create scalers\n",
    "scaler_X = MinMaxScaler()\n",
    "scaler_y = MinMaxScaler()\n",
    "\n",
    "# fit_transform input and target\n",
    "X_scaled = scaler_X.fit_transform(X_reshaped)\n",
    "y_scaled = scaler_y.fit_transform(y.reshape(-1, 1))\n",
    "\n",
    "# reshape X back to 3D\n",
    "X_scaled = X_scaled.reshape((n_samples, timesteps, n_features))\n",
    "\n",
    "print(f\"X_scaled shape: {X_scaled.shape}\")\n",
    "print(f\"y_scaled shape: {y_scaled.shape}\")"
   ]
  }
 ],
 "metadata": {
  "kernelspec": {
   "display_name": "venv",
   "language": "python",
   "name": "python3"
  },
  "language_info": {
   "codemirror_mode": {
    "name": "ipython",
    "version": 3
   },
   "file_extension": ".py",
   "mimetype": "text/x-python",
   "name": "python",
   "nbconvert_exporter": "python",
   "pygments_lexer": "ipython3",
   "version": "3.13.3"
  }
 },
 "nbformat": 4,
 "nbformat_minor": 2
}
